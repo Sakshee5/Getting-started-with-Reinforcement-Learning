{
 "cells": [
  {
   "cell_type": "markdown",
   "metadata": {},
   "source": [
    "### FrozenLake\n",
    "The FrozenLake environment consists of a 4x4 grid of blocks, each one either being the start block, the goal block, a safe frozen block, or a dangerous hole. The objective is to have an agent learn to navigate from the start to the goal without moving onto a hole. At any given time the agent can choose to move either up, down, left, or right. \n",
    "\n",
    "The surface can be described using a grid as follows:<br>\n",
    "SFFF        \n",
    "FHFH       \n",
    "FFFH    \n",
    "HFFG  \n",
    "\n",
    "where;<br>\n",
    "S: starting point, safe<br>\n",
    "F: frozen surface, safe<br>\n",
    "H: hole, fall to your doom<br>\n",
    "G: goal, where the frisbee is located<br>\n",
    "\n",
    "The episode ends when you reach the goal or fall in a hole. You receive a reward of 1 if you reach the goal, and zero otherwise.\n"
   ]
  },
  {
   "cell_type": "markdown",
   "metadata": {},
   "source": [
    "### Importing necessary libraries"
   ]
  },
  {
   "cell_type": "code",
   "execution_count": 1,
   "metadata": {},
   "outputs": [],
   "source": [
    "import gym\n",
    "import numpy as np\n",
    "import random\n",
    "import time"
   ]
  },
  {
   "cell_type": "markdown",
   "metadata": {},
   "source": [
    "### Setting and exploring environment"
   ]
  },
  {
   "cell_type": "code",
   "execution_count": 2,
   "metadata": {},
   "outputs": [],
   "source": [
    "# Set up the required environment from OpenAI gym\n",
    "env = gym.make('FrozenLake-v0')"
   ]
  },
  {
   "cell_type": "code",
   "execution_count": 3,
   "metadata": {},
   "outputs": [
    {
     "name": "stdout",
     "output_type": "stream",
     "text": [
      "4\n",
      "16\n"
     ]
    }
   ],
   "source": [
    "# Q table will have 's: number of states' rows and 'a: number of actions possible per state' columns\n",
    "action_space_size = env.action_space.n\n",
    "state_space_size = env.observation_space.n\n",
    "print(action_space_size)\n",
    "print(state_space_size)"
   ]
  },
  {
   "cell_type": "markdown",
   "metadata": {},
   "source": [
    "### Initializing Q table "
   ]
  },
  {
   "cell_type": "code",
   "execution_count": 4,
   "metadata": {},
   "outputs": [
    {
     "name": "stdout",
     "output_type": "stream",
     "text": [
      "[[0. 0. 0. 0.]\n",
      " [0. 0. 0. 0.]\n",
      " [0. 0. 0. 0.]\n",
      " [0. 0. 0. 0.]\n",
      " [0. 0. 0. 0.]\n",
      " [0. 0. 0. 0.]\n",
      " [0. 0. 0. 0.]\n",
      " [0. 0. 0. 0.]\n",
      " [0. 0. 0. 0.]\n",
      " [0. 0. 0. 0.]\n",
      " [0. 0. 0. 0.]\n",
      " [0. 0. 0. 0.]\n",
      " [0. 0. 0. 0.]\n",
      " [0. 0. 0. 0.]\n",
      " [0. 0. 0. 0.]\n",
      " [0. 0. 0. 0.]]\n"
     ]
    }
   ],
   "source": [
    "Q_table = np.zeros([state_space_size, action_space_size])\n",
    "print(Q_table)"
   ]
  },
  {
   "cell_type": "markdown",
   "metadata": {},
   "source": [
    "### Setting necessary parameters"
   ]
  },
  {
   "cell_type": "code",
   "execution_count": 5,
   "metadata": {},
   "outputs": [],
   "source": [
    "# Set learning parameters\n",
    "num_episodes = 10000\n",
    "max_steps_per_episode = 1000\n",
    "learning_rate = 0.1\n",
    "discount_rate = 0.99  # gamma\n",
    "\n",
    "# Parameters for epsilon greedy strategy (Exploration vs Exploitation)\n",
    "eps = 1             # exploration rate (initial)\n",
    "max_eps = 1\n",
    "min_eps = 0.01      # our agent will minimum explore 0.01% of the time\n",
    "decay_rate = 0.001  # for reducing the exploration rate according to a particular formula after every step to\n",
    "                    # maintain a exploration exploitation trade off balance "
   ]
  },
  {
   "cell_type": "markdown",
   "metadata": {},
   "source": [
    "### Q Learning Algorithm "
   ]
  },
  {
   "cell_type": "code",
   "execution_count": 7,
   "metadata": {
    "scrolled": true
   },
   "outputs": [
    {
     "name": "stdout",
     "output_type": "stream",
     "text": [
      "Average rewards per thousand episodes\n",
      "1000 : 0.04500000000000003\n",
      "2000 : 0.19800000000000015\n",
      "3000 : 0.3890000000000003\n",
      "4000 : 0.5620000000000004\n",
      "5000 : 0.6570000000000005\n",
      "6000 : 0.6700000000000005\n",
      "7000 : 0.6640000000000005\n",
      "8000 : 0.6920000000000005\n",
      "9000 : 0.6690000000000005\n",
      "10000 : 0.7010000000000005\n",
      "Updated Q table\n",
      "[[0.50544061 0.49650781 0.49687419 0.49699122]\n",
      " [0.14509375 0.34801045 0.35005727 0.47942403]\n",
      " [0.38653089 0.42589765 0.39700527 0.46156145]\n",
      " [0.3569314  0.28352533 0.32773395 0.45423152]\n",
      " [0.52022238 0.35863724 0.44948607 0.3332285 ]\n",
      " [0.         0.         0.         0.        ]\n",
      " [0.40383758 0.07085068 0.15148354 0.09240319]\n",
      " [0.         0.         0.         0.        ]\n",
      " [0.41383691 0.26635516 0.45482952 0.56639525]\n",
      " [0.52896883 0.59930682 0.51164664 0.38610451]\n",
      " [0.60342379 0.37126622 0.43208993 0.33421483]\n",
      " [0.         0.         0.         0.        ]\n",
      " [0.         0.         0.         0.        ]\n",
      " [0.40464984 0.6136393  0.69698531 0.46495505]\n",
      " [0.7409953  0.84565098 0.7514874  0.70516754]\n",
      " [0.         0.         0.         0.        ]]\n"
     ]
    }
   ],
   "source": [
    "rewards_all_episodes = []   \n",
    "# List to store the reward after each episode\n",
    "# In this particular environment, the possible options are 0 or 1.\n",
    "# Reward 0: when the maximum number of steps per episode is reached\n",
    "# Reward 1: when the agent reaches the goal\n",
    "\n",
    "for episode in range(num_episodes):  # loop to iterate over each episode\n",
    "    state = env.reset()         # We need to initialize the environment after every \"game over\" i.e. for every new episode\n",
    "    done = False                # Boolean which keeps track of whether our episode is finished\n",
    "    reward_current_episode = 0  # variable which stores rewards for all time steps for a given episode. \n",
    "                                # Initialized to zero after every episode\n",
    "    \n",
    "    for step in range(max_steps_per_episode):      # loop to iterate over each time step on an episode\n",
    "        exploration_rate_threshold = random.uniform(0, 1)    \n",
    "        # generating a random number to decide whether we should exploit or explore according to epsilon greedy strategy \n",
    "        \n",
    "        if exploration_rate_threshold > eps and ~np.all(Q_table[state,:]==0):\n",
    "            action = np.argmax(Q_table[state,:])   \n",
    "        # Exploit the previous updated Q values, choose action whose index has max Q value \n",
    "        # Condition 1: value of randomnly generated number > value of epsilon\n",
    "        # Condition 2: If the table has all 0's for that particular state then donot exploit. \n",
    "        # Since using argmax in this case will result in index 0 which will always result in same action\n",
    "        # The possibility of Q table with all 0's for a particular state is high since we only get a reward +1 on \n",
    "        # reaching the final goal thus we will mostly have 0's in our table at the start.\n",
    "        else:\n",
    "            action = env.action_space.sample()     # explore by choosing any random action from the action sample space\n",
    "                                    # gives a number amongst 0, 1, 2, 3 which represent one of the four actions available\n",
    "         \n",
    "        # we pass the chosen action to the step function which returns a tuple of values as mentioned\n",
    "        new_state, reward, done, info = env.step(action)\n",
    "        \n",
    "        # updating Q table according to the bellman equation\n",
    "        Q_table[state, action] = (1-learning_rate)*Q_table[state, action] + learning_rate*(reward + discount_rate*np.max(Q_table[new_state,:]))\n",
    "        \n",
    "        state = new_state\n",
    "        reward_current_episode += reward\n",
    "                                            \n",
    "        if done == True:\n",
    "            break\n",
    "            \n",
    "    # decay the value of epsilon according to the decay rate and episode number\n",
    "    eps = min_eps + (max_eps - min_eps)*np.exp(-decay_rate*episode)    \n",
    "    rewards_all_episodes.append(reward_current_episode)  \n",
    "                             \n",
    "# calculate and print average reward per thousand episodes  \n",
    "rewards_per_thousand_episodes = np.split(np.array(rewards_all_episodes), num_episodes/1000)                                                                                      \n",
    "count = 1000\n",
    "print('Average rewards per thousand episodes')  \n",
    "\n",
    "for r in rewards_per_thousand_episodes:\n",
    "    print(count,':',str(sum(r/1000)))\n",
    "    count+=1000\n",
    "                                                                                           \n",
    "# print updated Q table\n",
    "print('Updated Q table')  \n",
    "print(Q_table)"
   ]
  },
  {
   "cell_type": "markdown",
   "metadata": {},
   "source": [
    "#### Interpreting the above result:\n",
    "We know that we only receive a reward of 1 when we reach the goal. So the reward value for first 1000 episodes indicate that our agent reached the goal only 4.5% of the time. But by the end of 10000 episodes we see that the agent learned to reach the goal 70.0% of the time."
   ]
  },
  {
   "cell_type": "code",
   "execution_count": null,
   "metadata": {},
   "outputs": [],
   "source": []
  }
 ],
 "metadata": {
  "kernelspec": {
   "display_name": "Python 3.7 (tensorflow)",
   "language": "python",
   "name": "tensorflow"
  },
  "language_info": {
   "codemirror_mode": {
    "name": "ipython",
    "version": 3
   },
   "file_extension": ".py",
   "mimetype": "text/x-python",
   "name": "python",
   "nbconvert_exporter": "python",
   "pygments_lexer": "ipython3",
   "version": "3.7.7"
  }
 },
 "nbformat": 4,
 "nbformat_minor": 4
}
